{
 "cells": [
  {
   "cell_type": "markdown",
   "metadata": {},
   "source": [
    "# Lecture 12:  Numerical Integration and Monte Carlo\n",
    "\n",
    "**Overview:**\n",
    "* Numerical integration.\n",
    "* Simple Monte Carlo integration.\n",
    "* Importance sampling.\n",
    "\n",
    "**Next Lecture:**\n",
    "* Markov chain Monte Carlo and the Metropolis Algorithm.\n",
    "---"
   ]
  },
  {
   "cell_type": "code",
   "execution_count": null,
   "metadata": {},
   "outputs": [],
   "source": [
    "\"\"\"\n",
    "MONTE-CARLO (Integration)\n",
    "\"Random Sampling\"\n",
    "\n",
    "Numerical Integration:\n",
    "    |\n",
    "f(x)| ~~~~~~~\n",
    "    |  |  |\n",
    "    |__|__|________\n",
    "    Reimann sum.\n",
    "    F = integral(a -->b): f(x)dx\n",
    "    F ~ Sum:(x = 0 -> n-1): F(x)delx\n",
    "    \n",
    "    next step: use triangles instead of rectangles generated from straight line distance between endpoints.\n",
    "    \n",
    "    h= (b-a)/N\n",
    "    \n",
    "    Trapezoidal Rule:\n",
    "    A_i = 1/2h[f(a + (i-1)h) + f(a + ih)] \n",
    "    F = Sum:(i = 1 -> N): A_i = h[1/2f(1) + 1/2f(b) + Sum:(i = 1 -> N): f(a + ih)]\n",
    "    \n",
    "    Simpson Rule: \n",
    "    Approximate functioin with curves instead of straight lines. Quadratic function specified over each 3 points.\n",
    "    Take 3 points at -h,0,h\n",
    "    f(-h) = Ah**2 - Bh + C\n",
    "    f(0) = C\n",
    "    f(h) = Ah**2 + Bh + C\n",
    "    A = (1/h**2)[1/2(f-h) + f(0) + 1/2f(h)]\n",
    "    B = 1/2h[f(h)-f(-h)]\n",
    "    C = f(0)\n",
    "    inegral(-h -> h): (Ax**2 + Bx + C)dx = 2/3Ah**3 + 2Ch\n",
    "    = !!!!! 1/3h[f(-h) + 4f(0) + f(h)] !!!!!\n",
    "    \n",
    "    To integrate from [a, b]\n",
    "    Step width h\n",
    "    a + (2i-2)h\n",
    "    a + (2i-1)h\n",
    "    a + 2ih\n",
    "    A_i = 1/3h[f(1 + (2i-2)h) + 4f(a + 2i-1)h) + f(a + 2ih)]\n",
    "    \n",
    "    F = Sum:(i = 1 -> N/2): A_i = 1/3h[f(a) + f(b) + 4*Sum:(odd -> N-1): f(a+ oh) + 2*Sum:(even -> n-2): f(a + ih)]\n",
    "    \n",
    "    Trapezoidal Error:\n",
    "    E = 1/12(h**2)[f'(a)-f'(b)]\n",
    "    \n",
    "    Simpson's Error:\n",
    "    E = 1/90(h**4)[f''(a)-f''(b)]\n",
    "    \n",
    "    in d-dimenions\n",
    "    E ~ h**(a/d)\n",
    "    \n",
    "    \n",
    "    \n",
    "    <A> = integral:(dp**n * dx**n * e**-B+1 * A) / [integral:(dp**n * dx**n * e**-B+1)]\n",
    "\n",
    "    Solve using Monte Carlo method!\n",
    "    |\n",
    "f(x)| ~~~~~~~\n",
    "    |    \n",
    "    |______________    \n",
    "    a              b \n",
    "    Probability that random points land under the curve or outside it.\n",
    "    \n",
    "    p = integral(a --> b): f(x)dx / y*(b-a)\n",
    "    \n",
    "    F_n = A*(K/N) K = counting number of points < f(x)\n",
    "    \n",
    "    Error: p = F/A below, 1-p above\n",
    "    \n",
    "    prob of K points below and N-K above\n",
    "    \n",
    "    p**k(1-p)**(n-k)\n",
    "    \n",
    "    n choose k\n",
    "    \n",
    "    p(k) = (n choose k) p**k(1-p)**(n-k) ----> binomial distribution\n",
    "    \n",
    "    Mean <K> = np\n",
    "    Variance<K**2> - <K>**2 = Np(1-p) = NF/A(1-F/A)\n",
    "    Std = np.sqrt(Variance)\n",
    "    Error on integral: std*(A/N) = sqrt(F(A-F)/sqrt(N)) ~ N**(-1/2)\n",
    "    NO D, dimension does not matter!!!\n",
    "    \n",
    "    \n",
    "    A simpler MC method:\n",
    "    Mean value method\n",
    "    <f> = 1/(b-a)*integral(a --> b): f(x)dx = F/(b-a)\n",
    "    OR\n",
    "    F = (b-a)<f>\n",
    "    <f> ~ 1/N*(Sum:(i=1 -> n): f(x_i)), x_i chosen at random from a uniform distribution\n",
    "    \n",
    "    F = V/N*(Sum:(i=1 -> N) f(x_i))\n",
    "    \n",
    "    \n",
    "    IMPORTANCE SAMPLING:\n",
    "    I = integral:(0 -> 1): x**-1/2 / (e**x + 1) dx\n",
    "    Select points x_i non-uniformly from integration region\n",
    "    <g>_w = integral(a -> b): w(x)g(x)dx / integral(a ->b): w(x)dx\n",
    "    \n",
    "    Set g(x) = f(x)/w(x)\n",
    "    \n",
    "    <f(x)/w(x)>_w = integral(a->b): w(x)f(x)/w(X)dx / integral(a->b): w(x)dx\n",
    "                  = integral(a->b): f(x)dx / integral(a->b): w(x)dx\n",
    "                  = I / integral(a->b): w(x)dx\n",
    "                  I = <f(x)/w(x)_w * ingetral(a->b):w(x)dx\n",
    "                  \n",
    "    p(x) = w(x)/ integral(a->b): w(x)dx\n",
    "    Sample N random points (x_i)\n",
    "    non-uniformly such that probability of choosing a x_i in interval x -> x + dx is p(x)dx, then avg. # of samples in \n",
    "    is Np(x)dx\n",
    "    Sum(i = 1 -> N): g(x_i) ~ integral(a->b): Np(x)g(x)dx\n",
    "    \n",
    "    <g>_w = integral(a -> b): w(x)g(x)dx / integral(a -> b): w(x)dx\n",
    "    = integral(a -> b): p(x)g(x)dx\n",
    "    ~ 1/N*Sum(i = 1 -> N): g(x)\n",
    "    \n",
    "    I ~ 1/N * (Sum(i = 1 -> N): f(x_i) / w(x_i)) * integral(a - > b): w(x)dx\n",
    "\"\"\""
   ]
  },
  {
   "cell_type": "code",
   "execution_count": 1,
   "metadata": {},
   "outputs": [],
   "source": [
    "%matplotlib notebook\n",
    "%matplotlib inline\n",
    "import numpy as np\n",
    "import math\n",
    "from scipy import integrate"
   ]
  },
  {
   "cell_type": "markdown",
   "metadata": {},
   "source": [
    "## Dart Board Estimate of $\\pi$\n",
    "\n",
    "The code in the cell below generates a set of random coordinates inside our unit square and calculates the magnitude of the vector defined by these coordinates.\n",
    "\n",
    "* Run the code in the cell and call out the number generated for Prof. Plumb to plot on the board."
   ]
  },
  {
   "cell_type": "code",
   "execution_count": 8,
   "metadata": {},
   "outputs": [
    {
     "name": "stdout",
     "output_type": "stream",
     "text": [
      "0.306903795704\n"
     ]
    }
   ],
   "source": [
    "x = 2 * (np.random.random([1, 2])) - 1\n",
    "print(np.sqrt(np.sum(x**2)))"
   ]
  },
  {
   "cell_type": "markdown",
   "metadata": {},
   "source": [
    "### Functions to integrate, and some exact results"
   ]
  },
  {
   "cell_type": "code",
   "execution_count": 3,
   "metadata": {},
   "outputs": [],
   "source": [
    "def gaussian(x):\n",
    "    return np.exp(-x**2)\n",
    "\n",
    "# A Function that is not well behaved \n",
    "def Fermi(x):\n",
    "    num = 1/np.sqrt(x)\n",
    "    den = np.exp(x)+1\n",
    "    return num/den\n",
    "\n",
    "# area of a unit circle\n",
    "def sphere(x): \n",
    "    \"\"\" \n",
    "    return 1 if point is inside radius, zero otherwise\n",
    "    x is a multidimensional vector, must have dimension greater than 1\n",
    "    \"\"\"\n",
    "    r = np.sum(x**2, axis = 1) \n",
    "    a = (r<=1).astype(int)\n",
    "    return 1.0*a\n",
    "\n",
    "# volume of a hypersphere in n dimensions\n",
    "hypersphere = lambda r, n: math.pi**(n / 2)/math.gamma(n / 2 + 1)*r**n\n",
    "\n",
    "# exact integral of a Gaussian\n",
    "analyticalIntegral = np.sqrt(np.pi)"
   ]
  },
  {
   "cell_type": "code",
   "execution_count": 4,
   "metadata": {},
   "outputs": [],
   "source": [
    "# Numerically integrate a Gaussian \n",
    "\n",
    "def riemannSum(f):\n",
    "    width = 10.0\n",
    "    n = 100\n",
    "    dx = width/n\n",
    "    x = np.arange(-0.5*width, 0.5*width, width/n)\n",
    "\n",
    "    return np.sum(f(x)) * dx\n",
    "\n",
    "def Simpson(f):\n",
    "    width = 10.0\n",
    "    n = 100\n",
    "    dx = width/n\n",
    "    x = np.arange(-0.5*width, 0.5*width, width/n)\n",
    "    \n",
    "    s = (f(-0.5*width)+f(0.5*width)) \n",
    "    return (2*f(x[2:-2:2]).sum() + 4*f(x[1:-2:2]).sum()+s) * dx/3\n",
    "\n",
    "# using Scipy's built in integration schemes\n",
    "scipyIntegral = integrate.quad(gaussian, -100.0, 100.0)"
   ]
  },
  {
   "cell_type": "code",
   "execution_count": 5,
   "metadata": {},
   "outputs": [],
   "source": [
    "#np.random.seed(256)\n",
    "def naiveMonteCarlo(f, limits = [-10,10],d = 1, n_points = 1000, NSamples =100):\n",
    "    \"\"\"\n",
    "    Implement a mean value Monte-Carlo Integration in d dimensions\n",
    "    \n",
    "    f is function to integrate, must take an input vector x of dimension d\n",
    "    \n",
    "    limits define the range of integration, this function only works for integration ranges that are the same\n",
    "    all dimensitons\n",
    "    \n",
    "    n_points are number of points to sample in domain\n",
    "    NSamples number of time to repeat integration, decrease statistical noise\n",
    "    \"\"\"\n",
    "    width = np.abs(limits[1] - limits[0])\n",
    "    samples = np.zeros(NSamples)\n",
    "    \n",
    "    for i in range(NSamples):\n",
    "        x = width * (np.random.random([n_points, d])) + limits[0]\n",
    "        samples[i] = width**d * np.sum(f(x))/n_points    \n",
    "    \n",
    "    return samples.mean(), samples.std()\n",
    "    "
   ]
  },
  {
   "cell_type": "code",
   "execution_count": 6,
   "metadata": {},
   "outputs": [
    {
     "name": "stdout",
     "output_type": "stream",
     "text": [
      "Analytical (exact) integral =  1.77245385091\n",
      "Riemann Sum =  1.7724538509\n",
      "Simpsons Rule =  1.77245385089\n",
      "SciPy Integral =  (1.772453850905516, 1.976815268282025e-10)\n",
      "Naive Mean Value Monte Carlo =  (1.7668750204273076, 0.15721757038645076)\n"
     ]
    }
   ],
   "source": [
    "print(\"Analytical (exact) integral = \", analyticalIntegral)\n",
    "print(\"Riemann Sum = \", riemannSum(gaussian))\n",
    "print(\"Simpsons Rule = \", Simpson(gaussian))\n",
    "print(\"SciPy Integral = \", scipyIntegral)\n",
    "print(\"Naive Mean Value Monte Carlo = \", naiveMonteCarlo(gaussian))"
   ]
  },
  {
   "cell_type": "markdown",
   "metadata": {},
   "source": [
    "### Tasks\n",
    "* Use the mean value method Monte Carlo method to estimate the value of $\\pi$, (area of unit circle) to a higher accuracy than what was done in the demonstration.\n",
    "* Use the  Monte Carlo integrator to n-dimensions to find the volume of a hypersphere in 10 dimensions? Compare this results with Simpsons rule and the exact value.\n",
    "* Can you confirm the error on the MC integration is independent of the number of dimensions?"
   ]
  },
  {
   "cell_type": "code",
   "execution_count": null,
   "metadata": {},
   "outputs": [],
   "source": []
  },
  {
   "cell_type": "markdown",
   "metadata": {},
   "source": [
    "## Importance sampling Monte Carlo\n",
    "* Review the importance sampling method below. Do you understand all of the steps?\n",
    "* Can you modify the method and integrate a 4 dimensional Gaussian function?"
   ]
  },
  {
   "cell_type": "code",
   "execution_count": null,
   "metadata": {},
   "outputs": [],
   "source": [
    "def p_normal(stdev, x): # normal distribution\n",
    "    s = 1.0 / stdev\n",
    "    s2 = s**2\n",
    "    return np.exp(-s2 * x**2) * s / np.sqrt(np.pi)\n",
    "\n",
    "def importanceSampledMonteCarlo(f, p, NSamples=10):\n",
    "    n = 10000\n",
    "    stdev = 1.0\n",
    "    samples = np.zeros(NSamples)\n",
    "\n",
    "    for i in range(NSamples):\n",
    "        # sample random values from a normal distribution\n",
    "        x = np.random.normal(loc = 0.0, scale = np.sqrt(0.5) * stdev, size = n)\n",
    "        samples[i] = (f(x) / p(stdev, x)).mean()       \n",
    "    \n",
    "    return samples.mean(), samples.std()\n"
   ]
  },
  {
   "cell_type": "code",
   "execution_count": null,
   "metadata": {
    "scrolled": false
   },
   "outputs": [],
   "source": [
    "print(\"Naive Mean Value Monte Carlo = \", naiveMonteCarlo(gaussian))\n",
    "print(\"Importance Sampled Monte Carlo = \", importanceSampledMonteCarlo(gaussian, p_normal))"
   ]
  },
  {
   "cell_type": "code",
   "execution_count": null,
   "metadata": {},
   "outputs": [],
   "source": []
  }
 ],
 "metadata": {
  "kernelspec": {
   "display_name": "Python 3",
   "language": "python",
   "name": "python3"
  },
  "language_info": {
   "codemirror_mode": {
    "name": "ipython",
    "version": 3
   },
   "file_extension": ".py",
   "mimetype": "text/x-python",
   "name": "python",
   "nbconvert_exporter": "python",
   "pygments_lexer": "ipython3",
   "version": "3.6.7"
  }
 },
 "nbformat": 4,
 "nbformat_minor": 2
}
