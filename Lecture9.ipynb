{
 "cells": [
  {
   "cell_type": "markdown",
   "metadata": {},
   "source": [
    "# Lecture 9: Shooting, Matching and finite difference\n",
    "\n",
    "**Overview:**\n",
    "* Time independent Schrödinger eqn.\n",
    "* Numerov's method.\n",
    "* Finite difference formula (discrete Laplacian).\n",
    "* Displacement eqn.\n",
    "\n",
    "**Next Lecture:**\n",
    "* Boundary value problems, Laplace and Poisson equations.\n",
    "---"
   ]
  },
  {
   "cell_type": "markdown",
   "metadata": {},
   "source": [
    "## Tasks\n",
    "### Shooting:\n",
    "- How does the number of bound states in the square well change when you change the depth of the well? What about changing the width of the well? Do your finding agree with your expectations?\n",
    "\n",
    "- Is it possible a minimum well depth above which there is no bound-state?\n",
    "\n",
    "### Finite Difference\n",
    "- Modify the code to include a simple harmonic potential i.e $V= 1/2 kx^2$.\n",
    "- Compare the accuracy of the matching and finite difference methods for a simple harmonic potential. Which method do you expect to be more accurate?  How do your results compare with the exact eigen energies ?\n",
    "- Try defining some other interesting potentials e.g. double square well."
   ]
  },
  {
   "cell_type": "code",
<<<<<<< HEAD
   "execution_count": 10,
=======
   "execution_count": null,
>>>>>>> upstream/master
   "metadata": {},
   "outputs": [],
   "source": [
    "%matplotlib notebook\n",
<<<<<<< HEAD
    "%matplotlib inline\n",
=======
>>>>>>> upstream/master
    "import numpy as np\n",
    "from scipy.integrate import odeint\n",
    "import rootfinder as rtf\n",
    "import matplotlib.pyplot as plt\n",
    "from scipy.linalg import eigh"
   ]
  },
  {
   "cell_type": "code",
<<<<<<< HEAD
   "execution_count": 11,
=======
   "execution_count": null,
>>>>>>> upstream/master
   "metadata": {},
   "outputs": [],
   "source": [
    "class QM(object):\n",
    "    def __init__(self,E, npoints, x_start, x_end = 0, u0 = 0.0, v0 = 0.01):\n",
    "        self.E = E\n",
    "        self.npoints = npoints\n",
    "        self.uv0 = np.array([u0, v0]) # NumPy array with initial position and velocity\n",
    "       \n",
    "        # always want to start at furthest point and go to zero\n",
    "        self.xarray = np.linspace(x_start, x_end, npoints, endpoint = True) # include final timepoint\n",
    "\n",
    "    def scipy_trajectory(self):\n",
    "        \"\"\"calculate trajectory using SciPy ode integrator\"\"\"\n",
    "        self.uv = odeint(self.sch, self.uv0, self.xarray)\n",
    "        self.uv_end = self.uv[-1]\n",
    "\n",
    "\n",
    "    def sch(self, uv, x):\n",
    "    \n",
    "        \"\"\"right hand side of the differential equation\"\"\"\n",
    "        u = uv[1]\n",
    "        v = 2*(self.Potential(x) - self.E)*uv[0]\n",
    "        return np.ravel(np.array([u, v]))\n",
    "\n",
    "    def Potential(self, x):\n",
    "        # finite square well potential\n",
    "        a = 5 # width of well\n",
    "        V0 = 10 # depth of well\n",
    "        if (abs(x) > a/2.):\n",
    "            return 0\n",
    "        else :\n",
<<<<<<< HEAD
    "            return -V0 \n",
    "    def Potential2(self, x):\n",
    "        k = 5 # constant\n",
    "        return 1/2*k*(x)**2"
=======
    "            return -V0 "
>>>>>>> upstream/master
   ]
  },
  {
   "cell_type": "code",
<<<<<<< HEAD
   "execution_count": 12,
=======
   "execution_count": null,
>>>>>>> upstream/master
   "metadata": {},
   "outputs": [],
   "source": [
    "# the matching function\n",
    "def match(En):\n",
    "    #a = 1.0e-11\n",
    "    p_up = QM(E = En, npoints = 1000, x_start = -10)\n",
    "    p_down = QM(E = En, npoints = 1000, x_start = 10)\n",
    "    p_up.scipy_trajectory()\n",
    "    p_down.scipy_trajectory()\n",
    "\n",
    "    return p_down.uv_end[0]*p_up.uv_end[1] - p_down.uv_end[1]*p_up.uv_end[0]"
   ]
  },
  {
   "cell_type": "code",
<<<<<<< HEAD
   "execution_count": 14,
   "metadata": {},
   "outputs": [
    {
     "name": "stdout",
     "output_type": "stream",
     "text": [
      "Energy found: -9.83377\n",
      "Energy found: -9.33600\n",
      "Energy found: -8.50973\n",
      "[-9.80260791 -8.22347121]\n"
     ]
    },
    {
     "data": {
      "image/png": "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\n",
      "text/plain": [
       "<Figure size 432x288 with 1 Axes>"
      ]
     },
     "metadata": {
      "needs_background": "light"
     },
     "output_type": "display_data"
    }
   ],
=======
   "execution_count": null,
   "metadata": {},
   "outputs": [],
>>>>>>> upstream/master
   "source": [
    "a = 1.0e-3\n",
    "E1 =  -10 # start Energy search at the well depth\n",
    "dE = 0.01\n",
    "npoints = 1000\n",
    "\n",
    "\n",
    "E_SM = []\n",
    "\n",
    "fig = plt.figure()\n",
    "ax = fig.add_subplot(111)\n",
    "\n",
    "# Bound states must have E < 0 for the square well. \n",
    "# Cut off after we have found a few states\n",
    "while (E1 < -8-dE):\n",
    "\n",
    "    if match(E1)*match(E1 + dE) < 0 :  # bracket E\n",
    "        # find the energy\n",
    "        E = rtf.bisect(match, E1, E1+dE, 1e-12)\n",
    "        print('Energy found: %.5f'%(E))\n",
    "        E_SM.append(E)\n",
    "        \n",
    "        dx = 16*a/npoints\n",
    "        # for plotting, must ensure overlap of left and right solutions \n",
    "        p_up = QM(E, npoints = npoints+4, x_start = -10, x_end = 0+4*dx)\n",
    "        p_down = QM(E, npoints = npoints-4, x_start = 10, x_end = 0+4*dx)\n",
    "        \n",
    "        p_up.scipy_trajectory()\n",
    "        p_down.scipy_trajectory()\n",
    "        \n",
    "        # scale factor\n",
    "        scale = p_up.uv_end[0]/p_down.uv_end[0]\n",
    "        \n",
    "        # full solution, combine up and down solutions\n",
    "        psi_x = np.concatenate((p_up.uv[:-1,0], scale*p_down.uv[::-1,0]))\n",
    "        xa = np.linspace(-10,10, 2*npoints-1, endpoint = True)\n",
    "        \n",
    "        # plot the scaled solution (not normalized), scale maximum to 1 for plotting purposes\n",
    "        ax.plot(xa, psi_x/max(psi_x), lw = 2, label = \"E = {:.3f}\".format(E))\n",
    "    #else : \n",
    "    #    print(\"No bracket, increasing energy to\", E1+dE)\n",
    "    E1 += dE\n",
    "\n",
    "# Solution is exact only for for wide and deep well, and odd n \n",
    "a = 5\n",
    "V0 = 10\n",
    "n = np.arange(1,5,2)\n",
    "Exact = -V0+np.pi**2/2/a**2*n**2\n",
    "print(Exact)\n",
    "\n",
    "# plot the potential\n",
    "ax.plot(xa, np.vectorize(p_up.Potential)(xa)/10., color = 'k', lw =2)\n",
    "ax.set_xlim([-8, 8])\n",
    "ax.set_xlabel('x', fontsize = 14)\n",
    "ax.set_ylabel('$\\psi$ (unnormalized)', fontsize = 14)\n",
    "ax.legend(loc = 4, fontsize =10,numpoints = 1 )\n",
    "plt.show()"
   ]
  },
  {
   "cell_type": "markdown",
   "metadata": {},
   "source": [
    "## Finite difference"
   ]
  },
  {
   "cell_type": "code",
   "execution_count": null,
   "metadata": {},
   "outputs": [],
   "source": [
    "def potential(x):\n",
    "    \"\"\" The potential energy for a finite square well\"\"\"\n",
    "    a = 5\n",
    "    V0 = 10\n",
    "    V = np.zeros(x.shape)\n",
    "    V[np.nonzero(np.abs(x)<a/2)] = -V0   \n",
    "    return V    "
   ]
  },
  {
   "cell_type": "code",
   "execution_count": null,
   "metadata": {},
   "outputs": [],
   "source": [
    "N = 2000  # number of lattice points including boundaries at 0, N-1\n",
    "L = 100.0 \n",
    "dx = L / N # x runs from -L/2 + dx/2 to L/2 + dx/2\n",
    "\n",
    "# D = array(zeros((N, N))) # discrete laplacian operator\n",
    "D = np.diag([-2]*(N))\n",
    "D+= np.diag([1]*(N-1),1) + np.diag([1]*(N-1),-1) \n",
    "print(\"\\nLattice Laplacian operator\")\n",
    "print(D)\n",
    "        \n",
    "x = np.linspace(0.5*(dx-L), 0.5*(L-dx), N)        \n",
    "V = np.diag(potential(x)) # potential (the potential is a diagonal matrix because it's a one dimensional problem; see below\n",
    "    \n",
    "H = -0.5 * pow(dx, -2.0) * D + V # Hamiltonian.  Here m = hbar = 1\n",
    "        \n",
    "print(\"\\nMatrix elements of Hamiltionian = \")\n",
    "print(H)"
   ]
  },
  {
   "cell_type": "code",
   "execution_count": null,
   "metadata": {},
   "outputs": [],
   "source": [
    "E_FD, v = eigh(H) # diagonalize Hamiltonian\n",
    "\n",
    "# eigh returns the array of shape (N,N) where each column is an eigenvector; \n",
    "# we transpose for plotting later\n",
    "\n",
    "v = v.transpose() \n",
    "print(\"\\nGround state energy = \", E_FD[0])\n",
    "print(\"Energies of low-lying excited states = \", E_FD[1], E_FD[2], E_FD[3], E_FD[4])"
   ]
  },
  {
   "cell_type": "code",
   "execution_count": null,
   "metadata": {},
   "outputs": [],
   "source": [
    "fig = plt.figure()\n",
    "ax = fig.add_subplot(111)\n",
    "#plot potential (scaled)\n",
    "ax.plot(x, potential(x)/np.max(np.abs(potential(x))), lw = 2, color = 'grey')\n",
    "\n",
    "\n",
    "ax.plot(x, v[0]/np.max(v[0]), lw =2,label = \"E = {:.3f}\".format(E_FD[0]))\n",
    "ax.plot(x, v[1]/np.max(v[1]),lw = 2, label = \"E = {:.3f}\".format(E_FD[1]))\n",
    "ax.plot(x, v[2]/np.max(v[2]), lw = 2, label = \"E = {:.3f}\".format(E_FD[2]))\n",
    "\n",
    "ax.set_xlabel(\"x\", fontsize = 14)\n",
    "ax.set_ylabel('$\\psi$ (unnormalized)', fontsize = 14)\n",
    "\n",
    "ax.set_xlim([-8,8])\n",
    "#ax.set_ylim([-1, 1])\n",
    "ax.legend(loc = 4, fontsize =10,numpoints = 1 )"
   ]
  },
  {
   "cell_type": "code",
   "execution_count": null,
   "metadata": {},
   "outputs": [],
   "source": [
    "# Comparision of Shooting and Matching with Finite Difference:\n",
    "print(\"\\nGround state energy\")\n",
    "print(\"Matching: \\t\\t\", E_SM[0], \"\\nFinite Difference:\\t\", E_FD[0])\n",
    "\n",
    "print(\"\\nFirst excite state energy\")\n",
    "print(\"Matching: \\t\\t\", E_SM[1], \"\\nFinite Difference:\\t\", E_FD[1])\n",
    "\n",
    "print(\"\\n2nd excited state energy\")\n",
    "print(\"Matching: \\t\\t\", E_SM[2], \"\\nFinite Difference:\\t\", E_FD[2])"
   ]
  },
  {
   "cell_type": "code",
   "execution_count": null,
   "metadata": {},
   "outputs": [],
   "source": []
  }
 ],
 "metadata": {
  "kernelspec": {
   "display_name": "Python 3",
   "language": "python",
   "name": "python3"
  },
  "language_info": {
   "codemirror_mode": {
    "name": "ipython",
    "version": 3
   },
   "file_extension": ".py",
   "mimetype": "text/x-python",
   "name": "python",
   "nbconvert_exporter": "python",
   "pygments_lexer": "ipython3",
<<<<<<< HEAD
   "version": "3.6.7"
=======
   "version": "3.6.6"
>>>>>>> upstream/master
  }
 },
 "nbformat": 4,
 "nbformat_minor": 2
}
